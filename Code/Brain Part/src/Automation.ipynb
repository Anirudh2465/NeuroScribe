{
 "cells": [
  {
   "cell_type": "code",
   "execution_count": 1,
   "metadata": {},
   "outputs": [],
   "source": [
    "import time\n",
    "import psutil\n",
    "import requests\n",
    "import pyautogui\n",
    "import pyperclip\n",
    "import subprocess\n",
    "import pygetwindow as gw\n",
    "from playsound import playsound"
   ]
  },
  {
   "cell_type": "code",
   "execution_count": null,
   "metadata": {},
   "outputs": [],
   "source": [
    "A_sound = r\"C:\\Programming\\END SEM SEM 4\\Brain Part\\hello_1.wav\"\n",
    "playsound(A_sound)"
   ]
  },
  {
   "cell_type": "code",
   "execution_count": null,
   "metadata": {},
   "outputs": [],
   "source": [
    "B_sound = r\"C:\\Users\\Shreyas\\OneDrive\\Documents\\Arduino\\hello_b.mp3\"\n",
    "playsound(B_sound)\n"
   ]
  },
  {
   "cell_type": "code",
   "execution_count": null,
   "metadata": {},
   "outputs": [],
   "source": [
    "#esp32_ip = \"192.168.31.177\"  # Replace with the IP address of your ESP32\n",
    "esp32_ip  = \"192.168.43.125\"\n",
    "alphabet = 0\n",
    "while True:\n",
    "    url = f\"http://{esp32_ip}/send_message?play={alphabet}\"\n",
    "    response = requests.get(url)\n",
    "    \n",
    "    if response.status_code == 200:\n",
    "        print(f\"Alpabet sent successfully\")\n",
    "        break\n",
    "    else:\n",
    "        print(f\"Error: {response.text}\")\n",
    "        print(\"Sending again\")\n",
    "        \n",
    "\n",
    "print(\"Message sending completed\")"
   ]
  },
  {
   "cell_type": "code",
   "execution_count": 3,
   "metadata": {},
   "outputs": [
    {
     "name": "stdout",
     "output_type": "stream",
     "text": [
      "Hi\n",
      "ejf\n"
     ]
    }
   ],
   "source": [
    "def is_app_running(app_name):\n",
    "    \"\"\"Check if there is any running process that contains the given name.\"\"\"\n",
    "    for proc in psutil.process_iter(['pid', 'name']):\n",
    "        try:\n",
    "            if app_name.lower() in proc.info['name'].lower():\n",
    "                return True\n",
    "        except (psutil.NoSuchProcess, psutil.AccessDenied, psutil.ZombieProcess):\n",
    "            pass\n",
    "    return False\n",
    "\n",
    "def focus_app_window(app_name):\n",
    "    \"\"\"Focus on the application window with the given name.\"\"\"\n",
    "    windows = gw.getWindowsWithTitle(app_name)\n",
    "    if windows:\n",
    "        window = windows[0]\n",
    "        window.activate()\n",
    "        return True\n",
    "    return False\n",
    "\n",
    "def open_app(app_path):\n",
    "    \"\"\"Open the application using the given path.\"\"\"\n",
    "    subprocess.Popen(app_path)\n",
    "\n",
    "def ensure_fullscreen():\n",
    "    \"\"\"Ensure the currently focused window is full-screen.\"\"\"\n",
    "    pyautogui.hotkey('alt', 'space')\n",
    "    time.sleep(0.5)\n",
    "    pyautogui.press('x')\n",
    "def open_file_with_dialog(file_path):\n",
    "    \"\"\"Open a file using a file dialog by providing the file path.\"\"\"\n",
    "    # move to file\n",
    "    pyautogui.moveTo(63, 31)\n",
    "    pyautogui.click()\n",
    "    # move to open\n",
    "    pyautogui.moveTo(101, 116)\n",
    "    pyautogui.click()   \n",
    "    # Copy the file path to the clipboard\n",
    "    pyperclip.copy(file_path)\n",
    "    time.sleep(1)\n",
    "    print(\"Hi\")\n",
    "    # Paste the file path from the clipboard into the \"File Name\" field\n",
    "    pyautogui.hotkey('ctrl', 'v')\n",
    "    print(\"ejf\")\n",
    "    time.sleep(1)  # Wait for the path to be pasted\n",
    "\n",
    "    # Press Enter to open the file (or you can click the \"Save\" button)\n",
    "    pyautogui.press('enter')\n",
    "\n",
    "def connect_device():\n",
    "    pass\n",
    "def send_gcode():\n",
    "    # Go to Programs\n",
    "    pyautogui.moveTo(246, 17)\n",
    "    pyautogui.click()\n",
    "\n",
    "    # Send gcode\n",
    "    pyautogui.moveTo(251, 50)\n",
    "    pyautogui.click()\n",
    "# Call the function to open the file\n",
    "def main(app_name, app_path, file_path):\n",
    "    \"\"\"Main function to manage the application window.\"\"\"\n",
    "    if is_app_running(app_name):\n",
    "        focused = focus_app_window(app_name)\n",
    "        if focused:\n",
    "            ensure_fullscreen()\n",
    "    else:\n",
    "        open_app(app_path)\n",
    "        time.sleep(10)  # wait for the app to open\n",
    "        ensure_fullscreen()\n",
    "        time.sleep(2)\n",
    "        #connect_device()\n",
    "        #time.sleep(30)\n",
    "        open_file_with_dialog(file_path)\n",
    "        time.sleep(5)\n",
    "        send_gcode()\n",
    "        \n",
    "    \n",
    "\n",
    "# Replace 'your_app_name' and 'path_to_your_app' with actual app name and path\n",
    "app_name = 'ugsplatform64'  # Example: 'notepad'\n",
    "app_path = r\"C:\\Users\\Shreyas\\Downloads\\win64-ugs-platform-app-2.1.7\\ugsplatform-win\\bin\\ugsplatform64.exe\"  # Example: 'C:\\\\Windows\\\\System32\\\\notepad.exe'\n",
    "file_path = r\".\\converteded letter b1.nc\"\n",
    "main(app_name, app_path, file_path)\n"
   ]
  }
 ],
 "metadata": {
  "kernelspec": {
   "display_name": "Python 3",
   "language": "python",
   "name": "python3"
  },
  "language_info": {
   "codemirror_mode": {
    "name": "ipython",
    "version": 3
   },
   "file_extension": ".py",
   "mimetype": "text/x-python",
   "name": "python",
   "nbconvert_exporter": "python",
   "pygments_lexer": "ipython3",
   "version": "3.11.5"
  }
 },
 "nbformat": 4,
 "nbformat_minor": 2
}
