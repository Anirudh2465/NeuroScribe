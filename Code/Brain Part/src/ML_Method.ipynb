{
 "cells": [
  {
   "cell_type": "markdown",
   "metadata": {},
   "source": [
    "# Modules"
   ]
  },
  {
   "cell_type": "code",
   "execution_count": 3,
   "metadata": {},
   "outputs": [],
   "source": [
    "import pickle\n",
    "import numpy as np\n",
    "import pandas as pd\n",
    "from vmdpy import VMD\n",
    "import antropy as ant\n",
    "from sklearn import svm\n",
    "from sklearn import metrics\n",
    "from scipy.signal import welch\n",
    "import matplotlib.pyplot as plt\n",
    "from tensorflow.keras import utils\n",
    "from sklearn.metrics import classification_report, confusion_matrix\n",
    "from sklearn.ensemble import RandomForestClassifier\n",
    "from sklearn.model_selection import train_test_split"
   ]
  },
  {
   "cell_type": "markdown",
   "metadata": {},
   "source": [
    "# Data Preprocessing"
   ]
  },
  {
   "cell_type": "code",
   "execution_count": 4,
   "metadata": {},
   "outputs": [],
   "source": [
    "a12 = pd.read_csv(\"./Dataset/as/ones/a12.csv\").iloc[:4864, 1:9].dropna().to_numpy()\n",
    "a13 = pd.read_csv(\"./Dataset/as/ones/a13.csv\").iloc[:4864, 1:9].dropna().to_numpy()\n",
    "a11 = pd.read_csv(\"./Dataset/as/ones/Letter_A.csv\").iloc[:4864, 1:9].dropna().to_numpy()\n",
    "a21 = pd.read_csv(\"./Dataset/as/twos/a21.csv\").iloc[:4864, 1:9].dropna().to_numpy()\n",
    "a4 = pd.read_csv(\"./Dataset/as/fours/a4.csv\").iloc[:4864, 1:9].dropna().to_numpy()\n",
    "\n",
    "as_1 = pd.read_csv(\"./Dataset/dataset/as_1.csv\").dropna().iloc[:2304, 1:9].to_numpy()\n",
    "\n",
    "ak_1 = pd.read_csv(\"./Dataset/A11_K.csv\").dropna().iloc[0:12032, 1:9].to_numpy()\n",
    "ak_2 = pd.read_csv(\"./Dataset/A12_K.csv\").dropna().iloc[0:12032, 1:9].to_numpy()"
   ]
  },
  {
   "cell_type": "code",
   "execution_count": 5,
   "metadata": {},
   "outputs": [],
   "source": [
    "b12 = pd.read_csv(\"./Dataset/bs/ones/b12.csv\").dropna().iloc[:4864, 1:9].to_numpy()\n",
    "b13 = pd.read_csv(\"./Dataset/bs/ones/b13.csv\").dropna().iloc[:4864, 1:9].to_numpy()\n",
    "b11 = pd.read_csv(\"./Dataset/bs/ones/Letter_B.csv\").dropna().iloc[:4864, 1:9].to_numpy()\n",
    "b31 = pd.read_csv(\"./Dataset/bs/threes/b31.csv\").dropna().iloc[:4864, 1:9].to_numpy()\n",
    "b4 = pd.read_csv(\"./Dataset/bs/fours/b4.csv\").dropna().iloc[:4864, 1:9].to_numpy()\n",
    "\n",
    "bs_1 = pd.read_csv(\"./Dataset/dataset/bs_1.csv\").dropna().iloc[:2304, 1:9].to_numpy()\n",
    "\n",
    "bk_1 = pd.read_csv(\"./Dataset/B11_K.csv\").dropna().iloc[:12032, 1:9].to_numpy()\n",
    "bk_2 = pd.read_csv(\"./Dataset/B12_K.csv\").dropna().iloc[:12032, 1:9].to_numpy()\n",
    "\n"
   ]
  },
  {
   "cell_type": "code",
   "execution_count": 6,
   "metadata": {},
   "outputs": [],
   "source": [
    "base1s = pd.read_csv(\"./Dataset/baselines/Baseline_EEG.csv\").dropna().iloc[:, 1:9]\n",
    "base2s = pd.read_csv(\"./Dataset/baselines/rest2.csv\").dropna().iloc[:, 1:9]\n",
    "base3s = pd.read_csv(\"./Dataset/baselines/rest3.csv\").dropna().iloc[:, 1:9]\n",
    "base4s = pd.read_csv(\"./Dataset/baselines/base4.csv\").dropna().iloc[:, 1:9]\n",
    "\n",
    "\n",
    "base1s_1 = pd.read_csv(\"./Dataset/dataset/rest_s1.csv\").dropna().iloc[:, 1:9]\n",
    "\n",
    "base1k_1 = pd.read_csv(\"./Dataset/rest_eeg_K.csv\").dropna().iloc[:, 1:9]"
   ]
  },
  {
   "cell_type": "code",
   "execution_count": 7,
   "metadata": {},
   "outputs": [],
   "source": [
    "mean_1 = base1s.describe().iloc[1].to_numpy().reshape((1, 8))\n",
    "std_1 = base1s.describe().iloc[2].to_numpy().reshape((1, 8))\n",
    "\n",
    "mean_2 = base2s.describe().iloc[1].to_numpy().reshape((1, 8))\n",
    "std_2 = base2s.describe().iloc[2].to_numpy().reshape((1, 8))\n",
    "\n",
    "mean_3 = base3s.describe().iloc[1].to_numpy().reshape((1, 8))\n",
    "std_3 = base3s.describe().iloc[2].to_numpy().reshape((1, 8))\n",
    "\n",
    "mean_4 = base4s.describe().iloc[1].to_numpy().reshape((1, 8))\n",
    "std_4 = base4s.describe().iloc[2].to_numpy().reshape((1, 8))\n",
    "\n",
    "mean1_s = base1s_1.describe().iloc[1].to_numpy().reshape((1, 8))\n",
    "std1_s = base1s_1.describe().iloc[2].to_numpy().reshape((1, 8))\n",
    "\n",
    "mean1_k = base1k_1.describe().iloc[1].to_numpy().reshape((1, 8))\n",
    "std1_k = base1k_1.describe().iloc[2].to_numpy().reshape((1, 8))"
   ]
  },
  {
   "cell_type": "markdown",
   "metadata": {},
   "source": [
    "## BaseLine Correction"
   ]
  },
  {
   "cell_type": "code",
   "execution_count": 8,
   "metadata": {},
   "outputs": [],
   "source": [
    "a12_new = np.zeros((19, 256, 8))\n",
    "a13_new = np.zeros((19, 256, 8))\n",
    "a11_new = np.zeros((19, 256, 8))\n",
    "a21_new = np.zeros((19, 256, 8))\n",
    "a4_new = np.zeros((19, 256, 8))\n",
    "as_new = np.zeros((9, 256, 8))\n",
    "ak1_new = np.zeros((46, 256, 8))\n",
    "ak2_new = np.zeros((46, 256, 8))\n",
    "\n",
    "b12_new = np.zeros((19, 256, 8))\n",
    "b13_new = np.zeros((19, 256, 8))\n",
    "b11_new = np.zeros((19, 256, 8))\n",
    "b31_new = np.zeros((19, 256, 8))\n",
    "b4_new = np.zeros((19, 256, 8))\n",
    "bs_new = np.zeros((9, 256, 8))\n",
    "bk1_new = np.zeros((46, 256, 8))\n",
    "bk2_new = np.zeros((46, 256, 8))\n",
    "\n",
    "for i in range(19):\n",
    "    for j in range(256):\n",
    "        for k in range(8):\n",
    "            a12_new[i, j, k] = (a12[i+j, k] - mean_1[0, k])/std_1[0, k]\n",
    "            a13_new[i, j, k] = (a13[i+j, k] - mean_1[0, k])/std_1[0, k]\n",
    "            a11_new[i, j, k] = (a11[i+j, k] - mean_1[0, k])/std_1[0, k]\n",
    "            a21_new[i, j, k] = (a21[i+j, k] - mean_2[0, k])/std_2[0, k]\n",
    "            a4_new[i, j, k] = (a4[i+j, k] - mean_4[0, k])/std_4[0, k]\n",
    "\n",
    "\n",
    "\n",
    "            b12_new[i, j, k] = (b12[i+j, k] - mean_1[0, k])/std_1[0, k]\n",
    "            b13_new[i, j, k] = (b13[i+j, k] - mean_1[0, k])/std_1[0, k]\n",
    "            b11_new[i, j, k] = (b11[i+j, k] - mean_1[0, k])/std_1[0, k]\n",
    "            b31_new[i, j, k] = (b31[i+j, k] - mean_3[0, k])/std_3[0, k]\n",
    "            b4_new[i, j, k] = (b4[i+j, k] - mean_4[0, k])/std_4[0, k]\n",
    "\n",
    "for i in range(9):\n",
    "    for j in range(256):\n",
    "        for k in range(8):\n",
    "            as_new[i, j, k] = (as_1[i+j, k] - mean1_s[0, k])/std1_s[0, k]\n",
    "            bs_new[i, j, k] = (bs_1[i+j, k] - mean1_s[0, k])/std1_s[0, k]\n",
    "\n",
    "\n",
    "for i in range(46):\n",
    "    for j in range(256):\n",
    "        for k in range(8):\n",
    "            ak1_new[i, j, k] = (ak_1[i+j, k] - mean1_k[0, k])/std1_k[0, k]\n",
    "            ak2_new[i, j, k] = (ak_2[i+j, k] - mean1_k[0, k])/std1_k[0, k]\n",
    "\n",
    "            bk1_new[i, j, k] = (bk_1[i+j, k] - mean1_k[0, k])/std1_k[0, k]\n",
    "            bk2_new[i, j, k] = (bk_2[i+j, k] - mean1_k[0, k])/std1_k[0, k]"
   ]
  },
  {
   "cell_type": "code",
   "execution_count": 9,
   "metadata": {},
   "outputs": [],
   "source": [
    "all_a_s = np.concatenate((a12_new, a13_new, a11_new, a21_new, a4_new, as_new, ak1_new, ak2_new), axis = 0)\n",
    "all_b_s = np.concatenate((b12_new, b13_new, b11_new, b31_new, b4_new, bs_new, bk1_new, bk2_new), axis = 0)\n",
    "\n",
    "all_a_s = all_a_s.reshape((196, 256, 8))\n",
    "all_b_s = all_b_s.reshape((196, 256, 8))"
   ]
  },
  {
   "cell_type": "markdown",
   "metadata": {},
   "source": [
    "## VMD"
   ]
  },
  {
   "cell_type": "code",
   "execution_count": 10,
   "metadata": {},
   "outputs": [],
   "source": [
    "def vmd_signals(input_mats):\n",
    "    out_vmd = []\n",
    "    fs = 256\n",
    "    alpha = 500      # moderate bandwidth constraint  \n",
    "    tau = 0           # noise-tolerance (no strict fidelity enforcement)  \n",
    "    K = 7              # 7 modes  \n",
    "    DC = 0             # no DC part imposed  \n",
    "    init = 1           # initialize omegas uniformly  \n",
    "    tol = 1e-7\n",
    "    for i in range(input_mats.shape[0]):\n",
    "        channel_list = []\n",
    "        for j in range(8): # 8 channels\n",
    "            u, _, _ = VMD(input_mats[i, :, j], alpha, tau, K, DC, init, tol)\n",
    "            channel_list.append(u[:, 1]) # u[: ,1] because the required frequency was in that mode consistently\n",
    "        out_vmd.append(channel_list)\n",
    "    return out_vmd\n"
   ]
  },
  {
   "cell_type": "markdown",
   "metadata": {},
   "source": [
    "# Feature Extraction"
   ]
  },
  {
   "cell_type": "markdown",
   "metadata": {},
   "source": [
    "### Katz"
   ]
  },
  {
   "cell_type": "code",
   "execution_count": 11,
   "metadata": {},
   "outputs": [],
   "source": [
    "def katz_centrality(input_mats, alpha=0.1, beta=1.0):\n",
    "    out_mats = []\n",
    "    for A in input_mats:\n",
    "        A = np.corrcoef(A.T)\n",
    "        n = A.shape[0]\n",
    "        I = np.eye(n)\n",
    "        ones = np.ones(n)\n",
    "    \n",
    "    # Ensure alpha is less than 1/lambda_max\n",
    "        eigenvalues = np.linalg.eigvals(A)\n",
    "        lambda_max = max(np.abs(eigenvalues))\n",
    "        assert alpha < 1/lambda_max, \"alpha must be less than 1/lambda_max\"\n",
    "    \n",
    "    # Compute Katz centrality\n",
    "        K = np.linalg.inv(I - alpha * A) @ (beta * ones)\n",
    "        out_mats.append(K)\n",
    "    return np.array(out_mats)\n"
   ]
  },
  {
   "cell_type": "markdown",
   "metadata": {},
   "source": [
    "### Power Spectral Density"
   ]
  },
  {
   "cell_type": "code",
   "execution_count": 12,
   "metadata": {},
   "outputs": [],
   "source": [
    "def psd(data_list):\n",
    "    out = []\n",
    "    for data in data_list:\n",
    "        # Compute the PSD for each channel\n",
    "        psd_values = []\n",
    "\n",
    "        for i in range(7):\n",
    "            _, Pxx = welch(data[i, :], 8, nperseg=8)\n",
    "            psd_values.append(Pxx)\n",
    "        out.append(np.array(psd_values).flatten())\n",
    "    return np.array(out)"
   ]
  },
  {
   "cell_type": "markdown",
   "metadata": {},
   "source": [
    "### Spectral Entropy"
   ]
  },
  {
   "cell_type": "code",
   "execution_count": 13,
   "metadata": {},
   "outputs": [],
   "source": [
    "def spectral_entro(input_mat):\n",
    "    out = []\n",
    "    for x in input_mat: \n",
    "        out.append(ant.spectral_entropy(x, 7, method='fft'))\n",
    "    return np.array(out)"
   ]
  },
  {
   "cell_type": "code",
   "execution_count": 14,
   "metadata": {},
   "outputs": [],
   "source": [
    "vmd_a_s = vmd_signals(all_a_s)\n",
    "vmd_b_s = vmd_signals(all_b_s)"
   ]
  },
  {
   "cell_type": "code",
   "execution_count": 15,
   "metadata": {},
   "outputs": [
    {
     "name": "stderr",
     "output_type": "stream",
     "text": [
      "c:\\Users\\Shreyas\\AppData\\Local\\Programs\\Python\\Python311\\Lib\\site-packages\\scipy\\signal\\_spectral_py.py:589: UserWarning: nperseg = 8 is greater than input length  = 7, using nperseg = 7\n",
      "  freqs, _, Pxy = _spectral_helper(x, y, fs, window, nperseg, noverlap,\n"
     ]
    }
   ],
   "source": [
    "katz_a_s = katz_centrality(np.array(vmd_a_s))\n",
    "katz_b_s = katz_centrality(np.array(vmd_b_s))\n",
    "\n",
    "psd_a_s = psd(np.array(vmd_a_s))\n",
    "psd_b_s = psd(np.array(vmd_b_s))\n",
    "\n",
    "spen_a_s = spectral_entro(np.array(vmd_a_s))\n",
    "spen_b_s = spectral_entro(np.array(vmd_b_s))"
   ]
  },
  {
   "cell_type": "markdown",
   "metadata": {},
   "source": [
    "# Combining Features"
   ]
  },
  {
   "cell_type": "code",
   "execution_count": 16,
   "metadata": {},
   "outputs": [],
   "source": [
    "def combine(katz_a_s, psd_a_s, spen_a_s):\n",
    "    combined_features_all = []\n",
    "\n",
    "    for i in range(196):\n",
    "        f1 = katz_a_s[i]\n",
    "        f2 = psd_a_s[i]\n",
    "        f3 = spen_a_s[i]\n",
    "        \n",
    "        combined_features = np.concatenate((f1, f2, f3))\n",
    "        combined_features_all.append(combined_features)\n",
    "    return combined_features_all"
   ]
  },
  {
   "cell_type": "code",
   "execution_count": 17,
   "metadata": {},
   "outputs": [],
   "source": [
    "A_vals = combine(katz_a_s, psd_a_s, spen_a_s)\n",
    "B_vals = combine(katz_b_s, psd_b_s, spen_b_s)"
   ]
  },
  {
   "cell_type": "markdown",
   "metadata": {},
   "source": [
    "# Train and Test Split"
   ]
  },
  {
   "cell_type": "code",
   "execution_count": 18,
   "metadata": {},
   "outputs": [],
   "source": [
    "X = np.array([A_vals, B_vals]).reshape((392, 43))\n",
    "num_of_output = 2\n",
    "y = np.array([[0]*196, [1]*196]).reshape((392,))"
   ]
  },
  {
   "cell_type": "code",
   "execution_count": 19,
   "metadata": {},
   "outputs": [
    {
     "name": "stdout",
     "output_type": "stream",
     "text": [
      "(313, 43)\n",
      "(313,)\n",
      "(79, 43)\n",
      "(79,)\n"
     ]
    }
   ],
   "source": [
    "X_train, X_test, y_train, y_test = train_test_split(X, y, train_size=0.8, test_size=0.2, random_state=24)\n",
    "\n",
    "print(X_train.shape)\n",
    "print(y_train.shape)\n",
    "\n",
    "print(X_test.shape)\n",
    "print(y_test.shape)\n"
   ]
  },
  {
   "cell_type": "code",
   "execution_count": 20,
   "metadata": {},
   "outputs": [],
   "source": [
    "with open(\"X_train_ML\", 'wb') as fp:\n",
    "    pickle.dump(X_train, fp)\n",
    "\n",
    "with open(\"X_test_ML\", 'wb') as fp:\n",
    "    pickle.dump(X_test, fp)\n",
    "\n",
    "with open(\"y_train_ML\", 'wb') as fp:\n",
    "    pickle.dump(y_train, fp)\n",
    "\n",
    "with open(\"y_test_ML\", 'wb') as fp:\n",
    "    pickle.dump(y_test, fp)"
   ]
  },
  {
   "cell_type": "markdown",
   "metadata": {},
   "source": [
    "# Model Training"
   ]
  },
  {
   "cell_type": "markdown",
   "metadata": {},
   "source": [
    "### SVM"
   ]
  },
  {
   "cell_type": "code",
   "execution_count": 21,
   "metadata": {},
   "outputs": [],
   "source": [
    "model_svm = svm.SVC()\n",
    "model_svm.fit(X_train, y_train)\n",
    "model_pkl_file = \"SVM_MODEL.pkl\"  \n",
    "\n",
    "with open(model_pkl_file, 'wb') as file:  \n",
    "    pickle.dump(model_svm, file)"
   ]
  },
  {
   "cell_type": "code",
   "execution_count": 24,
   "metadata": {},
   "outputs": [
    {
     "data": {
      "text/plain": [
       "array([1, 0, 0, 1, 0, 1, 0, 0, 1, 1, 0, 0, 0, 0, 0, 1, 1, 0, 0, 0, 0, 0,\n",
       "       1, 0, 0, 0, 0, 0, 1, 1, 0, 1, 1, 0, 0, 1, 1, 1, 0, 0, 1, 1, 1, 0,\n",
       "       1, 0, 1, 0, 1, 0, 0, 0, 1, 1, 0, 1, 0, 1, 1, 0, 0, 0, 0, 0, 0, 1,\n",
       "       0, 0, 0, 0, 1, 0, 0, 0, 0, 0, 1, 1, 0])"
      ]
     },
     "execution_count": 24,
     "metadata": {},
     "output_type": "execute_result"
    }
   ],
   "source": [
    "y_pred"
   ]
  },
  {
   "cell_type": "code",
   "execution_count": 25,
   "metadata": {},
   "outputs": [
    {
     "name": "stdout",
     "output_type": "stream",
     "text": [
      "              precision    recall  f1-score   support\n",
      "\n",
      "           0       0.84      1.00      0.91        41\n",
      "           1       1.00      0.79      0.88        38\n",
      "\n",
      "    accuracy                           0.90        79\n",
      "   macro avg       0.92      0.89      0.90        79\n",
      "weighted avg       0.92      0.90      0.90        79\n",
      "\n"
     ]
    },
    {
     "data": {
      "image/png": "[encoded data removed]",
      "text/plain": [
       "<Figure size 640x480 with 2 Axes>"
      ]
     },
     "metadata": {},
     "output_type": "display_data"
    }
   ],
   "source": [
    "# Make predictions on the test set\n",
    "y_pred = model_svm.predict(X_test)\n",
    "\n",
    "# Classification Report\n",
    "print(classification_report(y_test, y_pred)) \n",
    "conf_mat = confusion_matrix(y_test, y_pred)\n",
    "cm_display = metrics.ConfusionMatrixDisplay(confusion_matrix = conf_mat, display_labels = [0, 1])\n",
    "cm_display.plot()\n",
    "plt.show()"
   ]
  },
  {
   "cell_type": "markdown",
   "metadata": {},
   "source": [
    "### Random Forest"
   ]
  },
  {
   "cell_type": "code",
   "execution_count": 26,
   "metadata": {},
   "outputs": [],
   "source": [
    "model_forest = RandomForestClassifier(max_depth=2, random_state=0)\n",
    "model_forest.fit(X_train, y_train)\n",
    "model_pkl_file = \"RANDOM_FOREST_MODEL.pkl\"  \n",
    "\n",
    "with open(model_pkl_file, 'wb') as file:  \n",
    "    pickle.dump(model_svm, file)"
   ]
  },
  {
   "cell_type": "code",
   "execution_count": 27,
   "metadata": {},
   "outputs": [
    {
     "name": "stdout",
     "output_type": "stream",
     "text": [
      "              precision    recall  f1-score   support\n",
      "\n",
      "           0       0.98      1.00      0.99        41\n",
      "           1       1.00      0.97      0.99        38\n",
      "\n",
      "    accuracy                           0.99        79\n",
      "   macro avg       0.99      0.99      0.99        79\n",
      "weighted avg       0.99      0.99      0.99        79\n",
      "\n"
     ]
    },
    {
     "data": {
      "image/png": "[encoded data removed]",
      "text/plain": [
       "<Figure size 640x480 with 2 Axes>"
      ]
     },
     "metadata": {},
     "output_type": "display_data"
    }
   ],
   "source": [
    "# Make predictions on the test set\n",
    "y_pred = model_forest.predict(X_test)\n",
    "\n",
    "# Classification Report\n",
    "print(classification_report(y_test, y_pred)) \n",
    "\n",
    "conf_mat = confusion_matrix(y_test, y_pred)\n",
    "cm_display = metrics.ConfusionMatrixDisplay(confusion_matrix = conf_mat, display_labels = [0, 1])\n",
    "cm_display.plot()\n",
    "plt.show()"
   ]
  }
 ],
 "metadata": {
  "kernelspec": {
   "display_name": "Python 3 (ipykernel)",
   "language": "python",
   "name": "python3"
  },
  "language_info": {
   "codemirror_mode": {
    "name": "ipython",
    "version": 3
   },
   "file_extension": ".py",
   "mimetype": "text/x-python",
   "name": "python",
   "nbconvert_exporter": "python",
   "pygments_lexer": "ipython3",
   "version": "3.11.5"
  }
 },
 "nbformat": 4,
 "nbformat_minor": 4
}
